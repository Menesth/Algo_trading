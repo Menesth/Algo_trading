{
 "cells": [
  {
   "cell_type": "markdown",
   "id": "b69eeb17",
   "metadata": {},
   "source": [
    "In this notebook we build an \"equal-weight\" version of the S \\& P 500 index fund.\n",
    "\n",
    "S \\& P 500 is a stock market index tracking the stock performance of 500 (actually 503...) leading companies listed on stock exchanges in the US. It is one of the most commonly followed equity indices and includes approximately 80% of the total market capitalization of US public companies, with an aggregate market cap of more than $49.8 trillion (as of March 31, 2025).\n",
    "\n",
    "It is a capitalization-weighted index (i.e. it weight the stocks by their market capitalization) and our goal is build an equal-weighted version. In particular, smaller companies will have a larger weight than their \"traditional\" S \\& P 500 weight and, conversly, larger companies companies will have a smaller weight.\n",
    "\n",
    "More precisely, the goal is to create python scripts that takes the value of a given portfolio and outputs how many shares of each S \\& P 500 constituent you should purchase to get an equal-weigth version of the index fund."
   ]
  },
  {
   "cell_type": "markdown",
   "id": "00be6717",
   "metadata": {},
   "source": [
    "We start by getting the financial data using financial modeling prep api (https://site.financialmodelingprep.com).\n",
    "For example, we can get some data about apple stock by doing the following simple api call"
   ]
  },
  {
   "cell_type": "code",
   "execution_count": 1,
   "id": "3fd620a3",
   "metadata": {},
   "outputs": [
    {
     "name": "stdout",
     "output_type": "stream",
     "text": [
      "[{'symbol': 'AAPL', 'name': 'Apple Inc.', 'price': 198.15, 'changesPercentage': 4.05945, 'change': 7.73, 'dayLow': 186.06, 'dayHigh': 199.54, 'yearHigh': 260.1, 'yearLow': 164.08, 'marketCap': 2976629115000, 'priceAvg50': 224.4894, 'priceAvg200': 228.46915, 'exchange': 'NASDAQ', 'volume': 87435915, 'avgVolume': 61669303, 'open': 186.18, 'previousClose': 190.42, 'eps': 6.97, 'pe': 28.43, 'earningsAnnouncement': '2025-05-01T20:00:00.000+0000', 'sharesOutstanding': 15022100000, 'timestamp': 1744401601}]\n",
      "stock price = 198.15, market capitalization = 2976629115000\n"
     ]
    }
   ],
   "source": [
    "import requests\n",
    "from my_api_key import my_api_key\n",
    "\n",
    "api = my_api_key()\n",
    "api_key = api.key\n",
    "symbol = \"AAPL\"\n",
    "api_url = f\"https://financialmodelingprep.com/api/v3/quote/{symbol}?apikey={api_key}\"\n",
    "req = requests.get(api_url)\n",
    "data = req.json()\n",
    "print(data)\n",
    "\n",
    "# For example, we can obtain today's stock price or the market capitalization of apple\n",
    "price = data[0][\"price\"]\n",
    "market_cap = data[0][\"marketCap\"]\n",
    "print(f\"stock price = {price}, market capitalization = {market_cap}\")"
   ]
  },
  {
   "cell_type": "markdown",
   "id": "4e09ee5a",
   "metadata": {},
   "source": [
    "Now we retrieve (from wikipedia) the composition of the S \\& P 500 and store it in a list"
   ]
  },
  {
   "cell_type": "code",
   "execution_count": 2,
   "id": "c55471fc",
   "metadata": {},
   "outputs": [],
   "source": [
    "import pandas as pd\n",
    "\n",
    "url = \"https://en.wikipedia.org/wiki/List_of_S%26P_500_companies\"\n",
    "tables = pd.read_html(url)\n",
    "sp500_table = tables[0]\n",
    "sp500_tickers = sp500_table['Symbol'].tolist()\n",
    "sp500_tickers = [ticker.replace('.', '-') for ticker in sp500_tickers] # reformat the strings (e.g. BF.B -> BF-B)"
   ]
  },
  {
   "cell_type": "markdown",
   "id": "0a676e7a",
   "metadata": {},
   "source": [
    "We could loop over all S & P 500 tickers and get data into a dataframe, but it would be really inefficient. Instead, we use batch api calls"
   ]
  },
  {
   "cell_type": "code",
   "execution_count": 3,
   "id": "d7ea2a30",
   "metadata": {},
   "outputs": [],
   "source": [
    "def chunks(input_list, chunk_size):\n",
    "    for i in range(0, len(input_list), chunk_size):\n",
    "        yield input_list[i: i + chunk_size]\n",
    "\n",
    "chunked_sp500_tickers = list(chunks(sp500_tickers, chunk_size=100)) # list made up of 5 = len(sp500_tickers) // 100 lists of length 100 + 1 list of length len(sp500_tickers) % 100 \n",
    "ticker_strings = [','.join(chunk) for chunk in chunked_sp500_tickers]\n",
    "\n",
    "records = []\n",
    "for ticker_string in ticker_strings:\n",
    "    batch_api_call = f\"https://financialmodelingprep.com/api/v3/quote/{ticker_string}?apikey={api_key}\"\n",
    "    req = requests.get(batch_api_call)\n",
    "    \n",
    "    if req.status_code != 200:\n",
    "        print(f\"Error fetching data for tickers: {ticker_string} (error {req.status_code})\")\n",
    "        continue\n",
    "    \n",
    "    data = req.json()\n",
    "    for i, ticker in enumerate(ticker_string.split(',')):\n",
    "        price = data[i][\"price\"]\n",
    "        market_cap = data[i][\"marketCap\"]\n",
    "\n",
    "        records.append({\n",
    "            \"Ticker\": ticker,\n",
    "            \"Stock price\": price,\n",
    "            \"Market cap\": market_cap,\n",
    "            \"Strategy (nb to buy)\": \"N/A\"\n",
    "        })\n",
    "\n",
    "sp_stocks = pd.DataFrame.from_records(records)"
   ]
  },
  {
   "cell_type": "code",
   "execution_count": 4,
   "id": "6fab0aa8",
   "metadata": {},
   "outputs": [
    {
     "data": {
      "text/html": [
       "<div>\n",
       "<style scoped>\n",
       "    .dataframe tbody tr th:only-of-type {\n",
       "        vertical-align: middle;\n",
       "    }\n",
       "\n",
       "    .dataframe tbody tr th {\n",
       "        vertical-align: top;\n",
       "    }\n",
       "\n",
       "    .dataframe thead th {\n",
       "        text-align: right;\n",
       "    }\n",
       "</style>\n",
       "<table border=\"1\" class=\"dataframe\">\n",
       "  <thead>\n",
       "    <tr style=\"text-align: right;\">\n",
       "      <th></th>\n",
       "      <th>Ticker</th>\n",
       "      <th>Stock price</th>\n",
       "      <th>Market cap</th>\n",
       "      <th>Strategy (nb to buy)</th>\n",
       "    </tr>\n",
       "  </thead>\n",
       "  <tbody>\n",
       "    <tr>\n",
       "      <th>0</th>\n",
       "      <td>MMM</td>\n",
       "      <td>135.95</td>\n",
       "      <td>73807255000</td>\n",
       "      <td>N/A</td>\n",
       "    </tr>\n",
       "    <tr>\n",
       "      <th>1</th>\n",
       "      <td>AOS</td>\n",
       "      <td>64.50</td>\n",
       "      <td>9257624177</td>\n",
       "      <td>N/A</td>\n",
       "    </tr>\n",
       "    <tr>\n",
       "      <th>2</th>\n",
       "      <td>ABT</td>\n",
       "      <td>126.88</td>\n",
       "      <td>220050521600</td>\n",
       "      <td>N/A</td>\n",
       "    </tr>\n",
       "    <tr>\n",
       "      <th>3</th>\n",
       "      <td>ABBV</td>\n",
       "      <td>175.05</td>\n",
       "      <td>309659949000</td>\n",
       "      <td>N/A</td>\n",
       "    </tr>\n",
       "    <tr>\n",
       "      <th>4</th>\n",
       "      <td>ACN</td>\n",
       "      <td>284.34</td>\n",
       "      <td>178004232840</td>\n",
       "      <td>N/A</td>\n",
       "    </tr>\n",
       "  </tbody>\n",
       "</table>\n",
       "</div>"
      ],
      "text/plain": [
       "  Ticker  Stock price    Market cap Strategy (nb to buy)\n",
       "0    MMM       135.95   73807255000                  N/A\n",
       "1    AOS        64.50    9257624177                  N/A\n",
       "2    ABT       126.88  220050521600                  N/A\n",
       "3   ABBV       175.05  309659949000                  N/A\n",
       "4    ACN       284.34  178004232840                  N/A"
      ]
     },
     "execution_count": 4,
     "metadata": {},
     "output_type": "execute_result"
    }
   ],
   "source": [
    "sp_stocks.head()"
   ]
  },
  {
   "cell_type": "markdown",
   "id": "c75738a7",
   "metadata": {},
   "source": [
    "Given the value of the porfolio, we can now compute the number of shares to buy to have a position analogous to an \"equally-weighted\" version of the S \\& P 500"
   ]
  },
  {
   "cell_type": "code",
   "execution_count": 5,
   "id": "15c655c7",
   "metadata": {},
   "outputs": [],
   "source": [
    "import math\n",
    "portfolio_size = 1000000\n",
    "strategy = sp_stocks.copy()\n",
    "position_size = portfolio_size / len(sp_stocks)\n",
    "for i in range(len(sp_stocks.index)):\n",
    "    strategy.loc[i, \"Strategy (nb to buy)\"] = math.floor(position_size / strategy.loc[i, \"Stock price\"])"
   ]
  },
  {
   "cell_type": "code",
   "execution_count": 6,
   "id": "375c8035",
   "metadata": {},
   "outputs": [
    {
     "data": {
      "text/html": [
       "<div>\n",
       "<style scoped>\n",
       "    .dataframe tbody tr th:only-of-type {\n",
       "        vertical-align: middle;\n",
       "    }\n",
       "\n",
       "    .dataframe tbody tr th {\n",
       "        vertical-align: top;\n",
       "    }\n",
       "\n",
       "    .dataframe thead th {\n",
       "        text-align: right;\n",
       "    }\n",
       "</style>\n",
       "<table border=\"1\" class=\"dataframe\">\n",
       "  <thead>\n",
       "    <tr style=\"text-align: right;\">\n",
       "      <th></th>\n",
       "      <th>Ticker</th>\n",
       "      <th>Stock price</th>\n",
       "      <th>Market cap</th>\n",
       "      <th>Strategy (nb to buy)</th>\n",
       "    </tr>\n",
       "  </thead>\n",
       "  <tbody>\n",
       "    <tr>\n",
       "      <th>0</th>\n",
       "      <td>MMM</td>\n",
       "      <td>135.95</td>\n",
       "      <td>73807255000</td>\n",
       "      <td>14</td>\n",
       "    </tr>\n",
       "    <tr>\n",
       "      <th>1</th>\n",
       "      <td>AOS</td>\n",
       "      <td>64.50</td>\n",
       "      <td>9257624177</td>\n",
       "      <td>30</td>\n",
       "    </tr>\n",
       "    <tr>\n",
       "      <th>2</th>\n",
       "      <td>ABT</td>\n",
       "      <td>126.88</td>\n",
       "      <td>220050521600</td>\n",
       "      <td>15</td>\n",
       "    </tr>\n",
       "    <tr>\n",
       "      <th>3</th>\n",
       "      <td>ABBV</td>\n",
       "      <td>175.05</td>\n",
       "      <td>309659949000</td>\n",
       "      <td>11</td>\n",
       "    </tr>\n",
       "    <tr>\n",
       "      <th>4</th>\n",
       "      <td>ACN</td>\n",
       "      <td>284.34</td>\n",
       "      <td>178004232840</td>\n",
       "      <td>6</td>\n",
       "    </tr>\n",
       "  </tbody>\n",
       "</table>\n",
       "</div>"
      ],
      "text/plain": [
       "  Ticker  Stock price    Market cap Strategy (nb to buy)\n",
       "0    MMM       135.95   73807255000                   14\n",
       "1    AOS        64.50    9257624177                   30\n",
       "2    ABT       126.88  220050521600                   15\n",
       "3   ABBV       175.05  309659949000                   11\n",
       "4    ACN       284.34  178004232840                    6"
      ]
     },
     "execution_count": 6,
     "metadata": {},
     "output_type": "execute_result"
    }
   ],
   "source": [
    "strategy.head()"
   ]
  }
 ],
 "metadata": {
  "kernelspec": {
   "display_name": "Python 3",
   "language": "python",
   "name": "python3"
  },
  "language_info": {
   "codemirror_mode": {
    "name": "ipython",
    "version": 3
   },
   "file_extension": ".py",
   "mimetype": "text/x-python",
   "name": "python",
   "nbconvert_exporter": "python",
   "pygments_lexer": "ipython3",
   "version": "3.12.5"
  }
 },
 "nbformat": 4,
 "nbformat_minor": 5
}
