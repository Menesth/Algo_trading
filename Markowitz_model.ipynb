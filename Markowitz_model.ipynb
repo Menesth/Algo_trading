{
 "cells": [
  {
   "cell_type": "markdown",
   "id": "e8bac535",
   "metadata": {},
   "source": [
    "The Markowitz model is a portfolio optimization model assisting in the selection of the most efficient portfolio by analyzing various possible portfolios of the given securities. Here, by choosing securities that do not \"move\" exactly together (i.e. by choosing stocks based on their correlations), the model shows how to reduce the risk when investing."
   ]
  },
  {
   "cell_type": "markdown",
   "id": "f1ad4fbb",
   "metadata": {},
   "source": [
    "We start by retrieving (from Wikipedia) the composition of the S & P 500 and store it in a list"
   ]
  },
  {
   "cell_type": "code",
   "execution_count": 1,
   "id": "c55471fc",
   "metadata": {},
   "outputs": [
    {
     "data": {
      "text/plain": [
       "['MMM', 'AOS', 'ABT', 'ABBV', 'ACN']"
      ]
     },
     "execution_count": 1,
     "metadata": {},
     "output_type": "execute_result"
    }
   ],
   "source": [
    "import pandas as pd\n",
    "\n",
    "def get_sp_tickers():\n",
    "    url = \"https://en.wikipedia.org/wiki/List_of_S%26P_500_companies\"\n",
    "    tables = pd.read_html(url)\n",
    "    sp500_table = tables[0]\n",
    "    sp500_tickers = sp500_table[\"Symbol\"].tolist()\n",
    "    sp500_tickers = [ticker.replace('.', '-') for ticker in sp500_tickers] # reformat the strings (e.g. BF.B -> BF-B) for yfinance\n",
    "    return sp500_tickers\n",
    "\n",
    "sp500_tickers = get_sp_tickers()\n",
    "sp500_tickers[:5]"
   ]
  },
  {
   "cell_type": "markdown",
   "id": "173b20de",
   "metadata": {},
   "source": [
    "and use yahoo finance api to get the returns of the S & P 500 stocks over a given time period. We then compute the daily returns using Panda's .pct_change() method"
   ]
  },
  {
   "cell_type": "code",
   "execution_count": 2,
   "id": "0f865121",
   "metadata": {},
   "outputs": [
    {
     "name": "stdout",
     "output_type": "stream",
     "text": [
      "YF.download() has changed argument auto_adjust default to True\n"
     ]
    },
    {
     "name": "stderr",
     "output_type": "stream",
     "text": [
      "[*********************100%***********************]  503 of 503 completed\n"
     ]
    },
    {
     "data": {
      "text/html": [
       "<div>\n",
       "<style scoped>\n",
       "    .dataframe tbody tr th:only-of-type {\n",
       "        vertical-align: middle;\n",
       "    }\n",
       "\n",
       "    .dataframe tbody tr th {\n",
       "        vertical-align: top;\n",
       "    }\n",
       "\n",
       "    .dataframe thead th {\n",
       "        text-align: right;\n",
       "    }\n",
       "</style>\n",
       "<table border=\"1\" class=\"dataframe\">\n",
       "  <thead>\n",
       "    <tr style=\"text-align: right;\">\n",
       "      <th>Ticker</th>\n",
       "      <th>A</th>\n",
       "      <th>AAPL</th>\n",
       "      <th>ABBV</th>\n",
       "      <th>ABNB</th>\n",
       "      <th>ABT</th>\n",
       "      <th>ACGL</th>\n",
       "      <th>ACN</th>\n",
       "      <th>ADBE</th>\n",
       "      <th>ADI</th>\n",
       "      <th>ADM</th>\n",
       "      <th>...</th>\n",
       "      <th>WTW</th>\n",
       "      <th>WY</th>\n",
       "      <th>WYNN</th>\n",
       "      <th>XEL</th>\n",
       "      <th>XOM</th>\n",
       "      <th>XYL</th>\n",
       "      <th>YUM</th>\n",
       "      <th>ZBH</th>\n",
       "      <th>ZBRA</th>\n",
       "      <th>ZTS</th>\n",
       "    </tr>\n",
       "    <tr>\n",
       "      <th>Date</th>\n",
       "      <th></th>\n",
       "      <th></th>\n",
       "      <th></th>\n",
       "      <th></th>\n",
       "      <th></th>\n",
       "      <th></th>\n",
       "      <th></th>\n",
       "      <th></th>\n",
       "      <th></th>\n",
       "      <th></th>\n",
       "      <th></th>\n",
       "      <th></th>\n",
       "      <th></th>\n",
       "      <th></th>\n",
       "      <th></th>\n",
       "      <th></th>\n",
       "      <th></th>\n",
       "      <th></th>\n",
       "      <th></th>\n",
       "      <th></th>\n",
       "      <th></th>\n",
       "    </tr>\n",
       "  </thead>\n",
       "  <tbody>\n",
       "    <tr>\n",
       "      <th>2024-07-09</th>\n",
       "      <td>-0.005156</td>\n",
       "      <td>0.003775</td>\n",
       "      <td>0.009188</td>\n",
       "      <td>0.003224</td>\n",
       "      <td>-0.004700</td>\n",
       "      <td>-0.002646</td>\n",
       "      <td>-0.004708</td>\n",
       "      <td>-0.016302</td>\n",
       "      <td>-0.005700</td>\n",
       "      <td>-0.003944</td>\n",
       "      <td>...</td>\n",
       "      <td>-0.009240</td>\n",
       "      <td>-0.000725</td>\n",
       "      <td>-0.005748</td>\n",
       "      <td>0.006908</td>\n",
       "      <td>-0.011054</td>\n",
       "      <td>-0.003506</td>\n",
       "      <td>-0.010005</td>\n",
       "      <td>-0.005922</td>\n",
       "      <td>0.002417</td>\n",
       "      <td>-0.006783</td>\n",
       "    </tr>\n",
       "    <tr>\n",
       "      <th>2024-07-10</th>\n",
       "      <td>0.013156</td>\n",
       "      <td>0.018804</td>\n",
       "      <td>0.000536</td>\n",
       "      <td>-0.004001</td>\n",
       "      <td>0.013873</td>\n",
       "      <td>-0.005102</td>\n",
       "      <td>-0.008790</td>\n",
       "      <td>-0.002597</td>\n",
       "      <td>0.027240</td>\n",
       "      <td>0.017424</td>\n",
       "      <td>...</td>\n",
       "      <td>0.003186</td>\n",
       "      <td>0.000363</td>\n",
       "      <td>-0.010028</td>\n",
       "      <td>0.002287</td>\n",
       "      <td>0.008834</td>\n",
       "      <td>0.020585</td>\n",
       "      <td>0.019817</td>\n",
       "      <td>0.010779</td>\n",
       "      <td>0.027186</td>\n",
       "      <td>-0.004304</td>\n",
       "    </tr>\n",
       "    <tr>\n",
       "      <th>2024-07-11</th>\n",
       "      <td>0.029511</td>\n",
       "      <td>-0.023221</td>\n",
       "      <td>0.010527</td>\n",
       "      <td>-0.038462</td>\n",
       "      <td>0.010965</td>\n",
       "      <td>-0.005128</td>\n",
       "      <td>0.013055</td>\n",
       "      <td>-0.012258</td>\n",
       "      <td>-0.019259</td>\n",
       "      <td>0.000311</td>\n",
       "      <td>...</td>\n",
       "      <td>0.014797</td>\n",
       "      <td>0.050036</td>\n",
       "      <td>0.008342</td>\n",
       "      <td>0.028332</td>\n",
       "      <td>0.011883</td>\n",
       "      <td>0.011222</td>\n",
       "      <td>0.002710</td>\n",
       "      <td>0.012067</td>\n",
       "      <td>0.013928</td>\n",
       "      <td>0.024497</td>\n",
       "    </tr>\n",
       "    <tr>\n",
       "      <th>2024-07-12</th>\n",
       "      <td>0.010778</td>\n",
       "      <td>0.013051</td>\n",
       "      <td>0.002178</td>\n",
       "      <td>0.005342</td>\n",
       "      <td>0.000384</td>\n",
       "      <td>-0.005155</td>\n",
       "      <td>0.042418</td>\n",
       "      <td>0.002546</td>\n",
       "      <td>0.020621</td>\n",
       "      <td>0.000467</td>\n",
       "      <td>...</td>\n",
       "      <td>0.008512</td>\n",
       "      <td>0.011050</td>\n",
       "      <td>0.014419</td>\n",
       "      <td>0.003698</td>\n",
       "      <td>0.000177</td>\n",
       "      <td>0.003989</td>\n",
       "      <td>0.013820</td>\n",
       "      <td>0.004621</td>\n",
       "      <td>-0.009533</td>\n",
       "      <td>0.007314</td>\n",
       "    </tr>\n",
       "    <tr>\n",
       "      <th>2024-07-15</th>\n",
       "      <td>-0.009226</td>\n",
       "      <td>0.016743</td>\n",
       "      <td>-0.004149</td>\n",
       "      <td>0.002998</td>\n",
       "      <td>-0.006849</td>\n",
       "      <td>0.006839</td>\n",
       "      <td>0.023307</td>\n",
       "      <td>0.011913</td>\n",
       "      <td>-0.003521</td>\n",
       "      <td>-0.013690</td>\n",
       "      <td>...</td>\n",
       "      <td>-0.003331</td>\n",
       "      <td>-0.008197</td>\n",
       "      <td>-0.014331</td>\n",
       "      <td>-0.019344</td>\n",
       "      <td>0.017127</td>\n",
       "      <td>-0.008091</td>\n",
       "      <td>-0.026045</td>\n",
       "      <td>-0.019873</td>\n",
       "      <td>0.007104</td>\n",
       "      <td>-0.005920</td>\n",
       "    </tr>\n",
       "  </tbody>\n",
       "</table>\n",
       "<p>5 rows × 503 columns</p>\n",
       "</div>"
      ],
      "text/plain": [
       "Ticker             A      AAPL      ABBV      ABNB       ABT      ACGL  \\\n",
       "Date                                                                     \n",
       "2024-07-09 -0.005156  0.003775  0.009188  0.003224 -0.004700 -0.002646   \n",
       "2024-07-10  0.013156  0.018804  0.000536 -0.004001  0.013873 -0.005102   \n",
       "2024-07-11  0.029511 -0.023221  0.010527 -0.038462  0.010965 -0.005128   \n",
       "2024-07-12  0.010778  0.013051  0.002178  0.005342  0.000384 -0.005155   \n",
       "2024-07-15 -0.009226  0.016743 -0.004149  0.002998 -0.006849  0.006839   \n",
       "\n",
       "Ticker           ACN      ADBE       ADI       ADM  ...       WTW        WY  \\\n",
       "Date                                                ...                       \n",
       "2024-07-09 -0.004708 -0.016302 -0.005700 -0.003944  ... -0.009240 -0.000725   \n",
       "2024-07-10 -0.008790 -0.002597  0.027240  0.017424  ...  0.003186  0.000363   \n",
       "2024-07-11  0.013055 -0.012258 -0.019259  0.000311  ...  0.014797  0.050036   \n",
       "2024-07-12  0.042418  0.002546  0.020621  0.000467  ...  0.008512  0.011050   \n",
       "2024-07-15  0.023307  0.011913 -0.003521 -0.013690  ... -0.003331 -0.008197   \n",
       "\n",
       "Ticker          WYNN       XEL       XOM       XYL       YUM       ZBH  \\\n",
       "Date                                                                     \n",
       "2024-07-09 -0.005748  0.006908 -0.011054 -0.003506 -0.010005 -0.005922   \n",
       "2024-07-10 -0.010028  0.002287  0.008834  0.020585  0.019817  0.010779   \n",
       "2024-07-11  0.008342  0.028332  0.011883  0.011222  0.002710  0.012067   \n",
       "2024-07-12  0.014419  0.003698  0.000177  0.003989  0.013820  0.004621   \n",
       "2024-07-15 -0.014331 -0.019344  0.017127 -0.008091 -0.026045 -0.019873   \n",
       "\n",
       "Ticker          ZBRA       ZTS  \n",
       "Date                            \n",
       "2024-07-09  0.002417 -0.006783  \n",
       "2024-07-10  0.027186 -0.004304  \n",
       "2024-07-11  0.013928  0.024497  \n",
       "2024-07-12 -0.009533  0.007314  \n",
       "2024-07-15  0.007104 -0.005920  \n",
       "\n",
       "[5 rows x 503 columns]"
      ]
     },
     "execution_count": 2,
     "metadata": {},
     "output_type": "execute_result"
    }
   ],
   "source": [
    "import yfinance as yf\n",
    "\n",
    "def get_returns(tickers, start_date, end_date):\n",
    "    out = yf.download(tickers, start=start_date, end=end_date)\n",
    "    out = out[\"Close\"]\n",
    "    out = out.pct_change() # daily returns: (price[i] - price[i - 1]) / price[i - 1]\n",
    "    out = out.dropna() # drop the first row (full of nan by definition of the computation of the daily returns)\n",
    "    return out\n",
    "\n",
    "sp500_returns = get_returns(sp500_tickers, start_date=\"2024-01-01\", end_date=\"2025-01-01\")\n",
    "sp500_returns.head()"
   ]
  },
  {
   "cell_type": "markdown",
   "id": "2de55dd6",
   "metadata": {},
   "source": [
    "With these daily returns, we can compute the (estimated) expected returns of the S \\& P 500 stocks (namely, by the mean of the daily returns). Moverover, given a set of weights and its associated portfolio, we can compute the (estimated) expected portfolio's returns.\n",
    "\n",
    "Recall, by linearity of the expectation, that if\n",
    "\\begin{equation*}\n",
    "    \\Pi = \\sum_{i = 1}^N w_i r_i\n",
    "\\end{equation*}\n",
    "is our porfolio, with set of weigts $\\lbrace w_i , 1 \\leq i \\leq N \\rbrace$ and returns $\\lbrace r_i, 1 \\leq i \\leq N \\rbrace$ of stocks $\\lbrace S_i, 1 \\leq i \\leq N \\rbrace$, then\n",
    "\\begin{equation*}\n",
    "    \\mathbb{E}(\\Pi) = \\sum_{i = 1}^N w_i \\mathbb{E}(r_i) = \\begin{pmatrix} w_1 & \\ldots & w_N \\end{pmatrix} \\begin{pmatrix} \\mathbb{E}(r_1) \\\\\n",
    "    \\cdot \\\\ \\cdot \\\\ \\mathbb{E}(r_N) \\end{pmatrix}.\n",
    "\\end{equation*}"
   ]
  },
  {
   "cell_type": "code",
   "execution_count": 3,
   "id": "4909e708",
   "metadata": {},
   "outputs": [
    {
     "data": {
      "text/plain": [
       "(0.000709344902838959, 0.17733622570973975)"
      ]
     },
     "execution_count": 3,
     "metadata": {},
     "output_type": "execute_result"
    }
   ],
   "source": [
    "import numpy as np\n",
    "\n",
    "def portfolio_returns(weights, returns):\n",
    "    sp_mean_returns = returns.mean().to_numpy()\n",
    "    assert len(sp_mean_returns) == len(weights)\n",
    "    return weights @ sp_mean_returns.T\n",
    "\n",
    "def annualized_portfolio_returns(weights, returns):\n",
    "    return portfolio_returns(weights, returns) * 250 # 250 days of trading\n",
    "\n",
    "equal_weights = np.array([1/len(sp500_returns.columns)] * len(sp500_returns.columns))\n",
    "portfolio_returns(equal_weights, sp500_returns), annualized_portfolio_returns(equal_weights, sp500_returns)"
   ]
  },
  {
   "cell_type": "markdown",
   "id": "27ca96a3",
   "metadata": {},
   "source": [
    "On the other hand, if the covariance matrix of the returns $\\lbrace r_i, 1 \\leq i \\leq N \\rbrace$ is\n",
    "\\begin{equation*}\n",
    "    \\Sigma = (\\mathbf{Cov}(r_i, r_j))_{1 \\leq i, j \\leq N}\n",
    "\\end{equation*}\n",
    "then\n",
    "\\begin{equation*}\n",
    "    \\mathbf{Var}(\\Pi) = \\mathbf{Var} \\left( \\sum_{i = 1}^N w_i r_i \\right) = \\begin{pmatrix} w_1 & \\ldots & w_N \\end{pmatrix} \\Sigma \\begin{pmatrix} w_1 \\\\\n",
    "    \\cdot \\\\ \\cdot \\\\ w_N \\end{pmatrix}.\n",
    "\\end{equation*}\n",
    "Hence, given a set of weights and its associated portfolio, we can compute the variance in the (estimated) portfolio's returns."
   ]
  },
  {
   "cell_type": "code",
   "execution_count": 7,
   "id": "cd129a84",
   "metadata": {},
   "outputs": [
    {
     "name": "stdout",
     "output_type": "stream",
     "text": [
      "6.507888486540396e-05 0.01626972121635099\n",
      "0.008067148496550932 0.1275528173595197\n"
     ]
    }
   ],
   "source": [
    "def portfolio_var(weights, returns):\n",
    "    sp_cov_returns = returns.cov().to_numpy()\n",
    "    assert len(sp_cov_returns) == len(weights)\n",
    "    return weights @ sp_cov_returns @ weights.T\n",
    "\n",
    "def annualized_portfolio_var(weights, returns):\n",
    "    return portfolio_var(weights, returns) * 250\n",
    "\n",
    "def portfolio_std(weights, returns):\n",
    "    return portfolio_var(weights, returns) ** (1/2)\n",
    "\n",
    "def annualized_portfolio_std(weights, returns):\n",
    "    return portfolio_std(weights, returns) * (250 ** (1/2))\n",
    "\n",
    "equal_weights = np.array([1/len(sp500_returns.columns)] * len(sp500_returns.columns))\n",
    "print(portfolio_var(equal_weights, sp500_returns), annualized_portfolio_var(equal_weights, sp500_returns))\n",
    "print(portfolio_std(equal_weights, sp500_returns), annualized_portfolio_std(equal_weights, sp500_returns))"
   ]
  },
  {
   "cell_type": "markdown",
   "id": "7280a5ac",
   "metadata": {},
   "source": [
    "We now draw the efficient frontier by sampling random weights and plotting associated portfolio returns against portfolio stds. Note that, to get an interesting plot, we should restrict to the 2D case i.e. the case of two stocks.\n",
    "\n",
    "Note that the efficient frontier draws a line connecting the \"all in first stock\" and the \"all in second stock\" portfolios."
   ]
  },
  {
   "cell_type": "code",
   "execution_count": 5,
   "id": "3ac0e632",
   "metadata": {},
   "outputs": [
    {
     "data": {
      "image/png": "[encoded data removed]",
      "text/plain": [
       "<Figure size 640x480 with 1 Axes>"
      ]
     },
     "metadata": {},
     "output_type": "display_data"
    }
   ],
   "source": [
    "import matplotlib.pyplot as plt\n",
    "import random\n",
    "random.seed(1337)\n",
    "\n",
    "def get_random_weights(returns):\n",
    "    out = np.random.random(len(returns.columns))\n",
    "    out /= out.sum()\n",
    "    return out\n",
    "\n",
    "two_stocks_returns = sp500_returns[[\"AAPL\", \"CAT\"]] # Only consider Apple and Caterpilar stocks\n",
    "\n",
    "returns = []\n",
    "stds = []\n",
    "weights = []\n",
    "\n",
    "EPOCHS = 500\n",
    "for i in range(EPOCHS):\n",
    "    weight = get_random_weights(two_stocks_returns)\n",
    "    weights.append(weight)\n",
    "    returns.append(annualized_portfolio_returns(weight, two_stocks_returns))\n",
    "    stds.append(annualized_portfolio_std(weight, two_stocks_returns))\n",
    "\n",
    "plt.scatter(x = stds, y = returns, color = \"blue\")\n",
    "plt.scatter(x = two_stocks_returns[\"AAPL\"].std() * np.sqrt(250), y = two_stocks_returns[\"AAPL\"].mean() * 250, color = \"red\")\n",
    "plt.scatter(x = two_stocks_returns[\"CAT\"].std() * np.sqrt(250), y = two_stocks_returns[\"CAT\"].mean() * 250, color = \"green\")\n",
    "plt.title(\"Efficient frontier\")\n",
    "plt.xlabel(\"Porfolio's volatility\")\n",
    "plt.ylabel(\"Porfolio's return\")\n",
    "plt.show()"
   ]
  },
  {
   "cell_type": "markdown",
   "id": "6afead46",
   "metadata": {},
   "source": [
    "For example, we can trace the minimal std portfolio's weights and adjust our position. More precisely, to obtain a minimal volatility portfolio in this Apple Caterpillar stocks example, one should invest roughly 72 % of his wealth on Catterpillar stocks and 28 % on Apple stocks.\n",
    "\n",
    "In particular, investing everything on Apple would be for sure sub-optimal: for same risk, we can improve our portfolio's returns by roughly 1.7%\n",
    "\n",
    "The same logic applies to the $N$ stocks case"
   ]
  },
  {
   "cell_type": "code",
   "execution_count": 6,
   "id": "8c707afe",
   "metadata": {},
   "outputs": [
    {
     "data": {
      "text/plain": [
       "array([0.72230116, 0.27769884])"
      ]
     },
     "execution_count": 6,
     "metadata": {},
     "output_type": "execute_result"
    }
   ],
   "source": [
    "minimal_std_weights = weights[stds.index(min(stds))]\n",
    "minimal_std_weights"
   ]
  }
 ],
 "metadata": {
  "kernelspec": {
   "display_name": "Python 3",
   "language": "python",
   "name": "python3"
  },
  "language_info": {
   "codemirror_mode": {
    "name": "ipython",
    "version": 3
   },
   "file_extension": ".py",
   "mimetype": "text/x-python",
   "name": "python",
   "nbconvert_exporter": "python",
   "pygments_lexer": "ipython3",
   "version": "3.12.5"
  }
 },
 "nbformat": 4,
 "nbformat_minor": 5
}
